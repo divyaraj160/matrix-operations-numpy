{
 "cells": [
  {
   "cell_type": "code",
   "execution_count": null,
   "id": "04bfd913",
   "metadata": {},
   "outputs": [
    {
     "name": "stdout",
     "output_type": "stream",
     "text": [
      "Matrix A: \n",
      " [[2 3 7]\n",
      " [5 6 8]\n",
      " [2 9 7]]\n",
      "Matrix B: \n",
      " [[9 5 8]\n",
      " [7 5 2]\n",
      " [9 6 1]]\n"
     ]
    }
   ],
   "source": [
    "# Create a 3x3 matrixs with random integer from 1 to 10.\n",
    "\n",
    "import numpy as np\n",
    "\n",
    "a = np.random.randint( 1,10, size=(3,3))\n",
    "b = np.random.randint(1,10, size=(3,3))\n",
    "\n",
    "print(\"Matrix A: \\n\", a)\n",
    "print(\"Matrix B: \\n\", b)\n"
   ]
  },
  {
   "cell_type": "code",
   "execution_count": null,
   "id": "8e1bd45d",
   "metadata": {},
   "outputs": [
    {
     "name": "stdout",
     "output_type": "stream",
     "text": [
      "Addition of A and B : \n",
      " [[11  8 15]\n",
      " [12 11 10]\n",
      " [11 15  8]]\n",
      "Substraction of A and B : \n",
      " [[-7 -2 -1]\n",
      " [-2  1  6]\n",
      " [-7  3  6]]\n",
      "Multiplication of A and B : \n",
      " [[18 15 56]\n",
      " [35 30 16]\n",
      " [18 54  7]]\n"
     ]
    }
   ],
   "source": [
    "# Addition, substraction and multiplication of a matrix.\n",
    "\n",
    "add = a + b\n",
    "sub = a - b \n",
    "multi = a * b\n",
    "\n",
    "print(\"Addition of A and B : \\n\", add)\n",
    "print(\"Substraction of A and B : \\n\", sub)\n",
    "print(\"Multiplication of A and B : \\n\", multi)"
   ]
  },
  {
   "cell_type": "code",
   "execution_count": null,
   "id": "58694e02",
   "metadata": {},
   "outputs": [
    {
     "name": "stdout",
     "output_type": "stream",
     "text": [
      "Transpose of a \n",
      " [[2 5 2]\n",
      " [3 6 9]\n",
      " [7 8 7]]\n",
      "Inverse of a \n",
      " [[-2.63157895e-01  3.68421053e-01 -1.57894737e-01]\n",
      " [-1.66666667e-01  8.41078049e-18  1.66666667e-01]\n",
      " [ 2.89473684e-01 -1.05263158e-01 -2.63157895e-02]]\n"
     ]
    }
   ],
   "source": [
    "# Transpose and Inverse of Matrix.\n",
    "\n",
    "a_T = a.T\n",
    "print(\"Transpose of a \\n\", a_T)\n",
    "\n",
    "\n",
    "if np.linalg.det(a) != 0:\n",
    "    A_inv = np.linalg.inv(a)\n",
    "    print(\"Inverse of a \\n\", A_inv)\n",
    "else:\n",
    "    print(\"Matrix is not inversible\")"
   ]
  },
  {
   "cell_type": "code",
   "execution_count": null,
   "id": "96cd53a5",
   "metadata": {},
   "outputs": [
    {
     "name": "stdout",
     "output_type": "stream",
     "text": [
      "Python addition took: 4.1961669921875e-05 Seconds\n",
      "Numpy addition took: 0.00011086463928222656 Seconds\n"
     ]
    }
   ],
   "source": [
    "# Compare Speed\n",
    "\n",
    "import time\n",
    "\n",
    "def python_add(a,b):\n",
    "    return [[a[i][j] + b[i][j] for j in range(len(a[0]))] for i in range(len(a))]\n",
    "\n",
    "a_list = a.tolist()\n",
    "b_list = b.tolist()\n",
    "\n",
    "start = time.time()\n",
    "python_result = python_add(a_list , b_list)\n",
    "end = time.time()\n",
    "print(\"Python addition took:\", end - start,\"Seconds\")\n",
    "\n",
    "start = time.time()\n",
    "numpy_result = a + b\n",
    "end = time.time()\n",
    "print(\"Numpy addition took:\", end - start,\"Seconds\")\n",
    "\n"
   ]
  }
 ],
 "metadata": {
  "kernelspec": {
   "display_name": "Python 3",
   "language": "python",
   "name": "python3"
  },
  "language_info": {
   "codemirror_mode": {
    "name": "ipython",
    "version": 3
   },
   "file_extension": ".py",
   "mimetype": "text/x-python",
   "name": "python",
   "nbconvert_exporter": "python",
   "pygments_lexer": "ipython3",
   "version": "3.13.1"
  }
 },
 "nbformat": 4,
 "nbformat_minor": 5
}
